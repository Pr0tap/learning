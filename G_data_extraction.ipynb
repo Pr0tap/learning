{
 "cells": [
  {
   "cell_type": "code",
   "execution_count": 6,
   "id": "fa6b6caa",
   "metadata": {},
   "outputs": [
    {
     "name": "stdout",
     "output_type": "stream",
     "text": [
      "    global_id   ID  Year UnemployedMen UnemployedWomen UnemployedYoung  \\\n",
      "91  894075540   96  2018         10651           14043            2829   \n",
      "92  896740236   97  2018         10763           14375            2892   \n",
      "93  904345746   98  2018         11080           14610            2911   \n",
      "94  909303094   99  2018         12063           15815            3077   \n",
      "95  918869065  100  2019         12225           16078            2960   \n",
      "\n",
      "   UnemployedDisabled UnemployedTotal    Period Unnamed: 9       prc  \n",
      "91                472           24694  Сентябрь          0  1.911395  \n",
      "92                477           25138   Октябрь          0  1.897526  \n",
      "93                467           25690    Ноябрь          0  1.817828  \n",
      "94                527           27878   Декабрь          0  1.890380  \n",
      "95                533           28303    Январь          0  1.883193  \n",
      "Int64Index([2018], dtype='int64', name='Year')\n"
     ]
    }
   ],
   "source": [
    "import pandas as pd\n",
    "data_r = pd.read_csv(\"http://video.ittensive.com/python-advanced/data-9753-2019-07-25.utf.csv\", delimiter=';', na_values=\"NA\" )\n",
    "data_r.fillna(0,axis=1,inplace=True)\n",
    "data_r[\"prc\"]=data_r.apply(lambda x: 100*x[6]/x[7], axis=1)\n",
    "data_r = data_r[data_r[\"prc\"] < 2]\n",
    "print(data_r.head())\n",
    "data_r = data_r.set_index([\"Year\"])#индекс столбец которыйнадо вывести\n",
    "data_r = data_r.sort_index() #сортируем\n",
    "print (data_r.index[0:1])#выводим первую строку\n",
    "\n"
   ]
  },
  {
   "cell_type": "code",
   "execution_count": null,
   "id": "f8947f38",
   "metadata": {},
   "outputs": [],
   "source": []
  }
 ],
 "metadata": {
  "kernelspec": {
   "display_name": "Python 3 (ipykernel)",
   "language": "python",
   "name": "python3"
  },
  "language_info": {
   "codemirror_mode": {
    "name": "ipython",
    "version": 3
   },
   "file_extension": ".py",
   "mimetype": "text/x-python",
   "name": "python",
   "nbconvert_exporter": "python",
   "pygments_lexer": "ipython3",
   "version": "3.11.1"
  }
 },
 "nbformat": 4,
 "nbformat_minor": 5
}
