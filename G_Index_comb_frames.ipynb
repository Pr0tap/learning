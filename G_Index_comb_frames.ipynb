{
 "cells": [
  {
   "cell_type": "code",
   "execution_count": 1,
   "metadata": {},
   "outputs": [
    {
     "name": "stderr",
     "output_type": "stream",
     "text": [
      "C:\\Users\\Ferm4\\AppData\\Local\\Temp\\ipykernel_7312\\3520601421.py:6: SettingWithCopyWarning: \n",
      "A value is trying to be set on a copy of a slice from a DataFrame\n",
      "\n",
      "See the caveats in the documentation: https://pandas.pydata.org/pandas-docs/stable/user_guide/indexing.html#returning-a-view-versus-a-copy\n",
      "  data_rn.rename(columns={'Period': 'Month'}, inplace= True)#переименовываем столбец\n"
     ]
    },
    {
     "name": "stdout",
     "output_type": "stream",
     "text": [
      "              global_id_x  ID_x  UnemployedMen  UnemployedWomen  \\\n",
      "Month   Year                                                      \n",
      "Февраль 2015    273573614    52          13465            18080   \n",
      "\n",
      "              UnemployedYoung  UnemployedDisabled  UnemployedTotal  \\\n",
      "Month   Year                                                         \n",
      "Февраль 2015             4645                1028            31545   \n",
      "\n",
      "              Unnamed: 9  ID_y                             AdmArea  \\\n",
      "Month   Year                                                         \n",
      "Февраль 2015         NaN    12  Центральный административный округ   \n",
      "\n",
      "              global_id_y  Calls  Unnamed: 6  \n",
      "Month   Year                                  \n",
      "Февраль 2015     37153172    220         NaN  \n"
     ]
    }
   ],
   "source": [
    "%matplotlib inline\n",
    "import pandas as pd\n",
    "import matplotlib.pyplot as plt\n",
    "data_r = pd.read_csv(\"http://video.ittensive.com/python-advanced/data-9753-2019-07-25.utf.csv\", delimiter=';', na_values=\"NA\" )\n",
    "data_rn = data_r.query('Year>2014')# берем значени старше 2014 \n",
    "data_rn.rename(columns={'Period': 'Month'}, inplace= True)#переименовываем столбец\n",
    "data_rn = data_rn.set_index([\"Month\", \"Year\"])#создаем индекс\n",
    "data_rn = data_rn.sort_index()#сортируем\n",
    "#print(data_rn.head(13)) #визуальный контроль\n",
    "data_p = pd.read_csv(\"http://video.ittensive.com/python-advanced/data-5283-2019-10-04.utf.csv\", delimiter=';', na_values=\"NA\",\n",
    "                     index_col=[\"Month\", \"Year\"]) \n",
    "data_cao = data_p.query('AdmArea == \"Центральный административный округ\"')# выбираем округ\n",
    "#data_cao = data_cao.sort_index()\n",
    "#print (data_cao.head(13))#визуальный контроль\n",
    "data = pd.merge(data_rn, data_cao, left_index=True, right_index=True) #обьединяем по индексам\n",
    "print(data[data[\"Calls\"]== data[\"Calls\"].min()]) #строки с минимальным значением\n",
    "#print (data.head())\n"
   ]
  },
  {
   "cell_type": "code",
   "execution_count": null,
   "metadata": {},
   "outputs": [],
   "source": []
  },
  {
   "cell_type": "code",
   "execution_count": null,
   "metadata": {},
   "outputs": [],
   "source": []
  }
 ],
 "metadata": {
  "kernelspec": {
   "display_name": "Python 3 (ipykernel)",
   "language": "python",
   "name": "python3"
  },
  "language_info": {
   "codemirror_mode": {
    "name": "ipython",
    "version": 3
   },
   "file_extension": ".py",
   "mimetype": "text/x-python",
   "name": "python",
   "nbconvert_exporter": "python",
   "pygments_lexer": "ipython3",
   "version": "3.11.1"
  }
 },
 "nbformat": 4,
 "nbformat_minor": 2
}
