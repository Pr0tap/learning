{
 "cells": [
  {
   "cell_type": "code",
   "execution_count": 16,
   "id": "0207c853",
   "metadata": {},
   "outputs": [
    {
     "name": "stdout",
     "output_type": "stream",
     "text": [
      "[[0, 0, 0, 0, 0, 1, 0, 0, 0, 0], [0, 0, 1, 1, 0, 0, 1, 1, 0, 0], [1, 1, 0, 0, 1, 1, 1, 1, 0, 0], [1, 1, 0, 0, 1, 0, 0, 1, 1, 0], [0, 0, 0, 0, 1, 0, 1, 0, 0, 0], [0, 0, 1, 1, 1, 0, 0, 0, 0, 0], [1, 0, 1, 1, 0, 0, 1, 1, 1, 1], [1, 0, 0, 0, 1, 0, 1, 0, 1, 0], [1, 0, 1, 1, 1, 0, 0, 1, 0, 1], [0, 0, 1, 0, 1, 0, 1, 0, 0, 1]]\n"
     ]
    }
   ],
   "source": [
    "%matplotlib inline\n",
    "import random\n",
    "import numpy as np\n",
    "import matplotlib.pyplot as plt\n",
    "'''0-решка, 1- орел'''\n",
    "p_list=[[random.randint(0, 1) for _ in range(10)] for _ in range(10)]\n",
    "print(p_list)"
   ]
  },
  {
   "cell_type": "code",
   "execution_count": 29,
   "id": "01ecf8fc",
   "metadata": {},
   "outputs": [
    {
     "name": "stdout",
     "output_type": "stream",
     "text": [
      "[2, 3, 6, 4, 9, 4, 7, 4, 3, 8]\n",
      "Математическое ожидание 5.0\n",
      "Дисперсия 5.000000000000001\n"
     ]
    },
    {
     "data": {
      "image/png": "[encoded data removed]",
      "text/plain": [
       "<Figure size 640x480 with 1 Axes>"
      ]
     },
     "metadata": {},
     "output_type": "display_data"
    }
   ],
   "source": [
    "'''0-решка, 1- орел'''\n",
    "sp_x =[]\n",
    "l=[[random.randint(0, 1) for _ in range(10)] for _ in range(10)]\n",
    "for q in range(10):\n",
    "    sp_x.append(sum(l[q])) \n",
    "print (sp_x)\n",
    "print (\"Математическое ожидание\", np.mean(sp_x))\n",
    "print (\"Дисперсия\", np.std(sp_x)**2)\n",
    "plt.hist(sp_x, 10)\n",
    "plt.show()\n"
   ]
  },
  {
   "cell_type": "code",
   "execution_count": null,
   "id": "5218cbfe",
   "metadata": {},
   "outputs": [],
   "source": [
    "import matplotlib.pyplot as plt \n",
    "# подключим \n",
    "matplotlib import numpy as np # подключим numpy '''выведем график в том же окне браузера''' \n",
    "%matplotlib inline \n",
    "data = np.array([int(i) for i in input(\"Введите ряд данных: \").split()]) # создаем массив с данными из пользовательского ввода \n",
    "plt.hist(data, 6, facecolor='blue', alpha=0.5) # построим гистограмму, первый параметр - данные, второй - число интервалов \n",
    "plt.title('Гистограмма значений') # заголовок графика \n",
    "plt.show() # выведем график на экран \n",
    "x = range(0, len(data)) # создадим значения x для второго графика, от 0 до количества введенных данных \n",
    "plt.plot(x, data[x], label='Данные') # создадим новый график с аргументами - индексами данных в массиве и значениями - самими данными \n",
    "mean = np.mean(data) # рассчитаем среднее введенных данных \n",
    "means = np.array([mean for i in x]) # создадим массив средних по числу элементов в массиве данных \n",
    "plt.plot(x, means, label='Среднее') # выведем на график средние значения \n",
    "plt.legend() # включим легенду графика \n",
    "plt.show() # выведем второй график"
   ]
  }
 ],
 "metadata": {
  "kernelspec": {
   "display_name": "Python 3 (ipykernel)",
   "language": "python",
   "name": "python3"
  },
  "language_info": {
   "codemirror_mode": {
    "name": "ipython",
    "version": 3
   },
   "file_extension": ".py",
   "mimetype": "text/x-python",
   "name": "python",
   "nbconvert_exporter": "python",
   "pygments_lexer": "ipython3",
   "version": "3.10.7"
  }
 },
 "nbformat": 4,
 "nbformat_minor": 5
}
