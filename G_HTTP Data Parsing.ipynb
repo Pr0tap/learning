{
 "cells": [
  {
   "cell_type": "code",
   "execution_count": 30,
   "id": "b8e4485b",
   "metadata": {},
   "outputs": [
    {
     "name": "stdout",
     "output_type": "stream",
     "text": [
      "4\n",
      "11.0    ИКРУСС-ИНВ\n",
      "Name: 0, dtype: object\n"
     ]
    }
   ],
   "source": [
    "'''не доделано'''\n",
    "%matplotlib inline\n",
    "import matplotlib.pyplot as plt\n",
    "import requests\n",
    "import pandas as pd\n",
    "from bs4 import BeautifulSoup\n",
    "r = requests.get(\"https://mfd.ru/marketdata/?id=5&group=16&mode=3&sortHeader=name&sortOrder=1&selectedDate=01.11.2019\") #загружаем HTMLкод таблицы\n",
    "html = BeautifulSoup(r.content) #отправляем в SOUP\n",
    "data = [] #создаем массив\n",
    "ndata =[] \n",
    "table = html.find(\"table\", {\"id\" :\"marketDataList\"}) #ищем тег таблицы Table\n",
    "for tr in table.find_all(\"tr\"): # ищем тег строки столбца tr\n",
    "    tr =[td.get_text(strip=True) for td in tr.find_all(\"td\")]\n",
    "    if len(tr) > 0:\n",
    "        data.append(tr) #ищем теги данных в строке выбираем данные и избавляемся от пробелов\n",
    "data = pd.DataFrame(data) #загоняем в дата фрейм\n",
    "data = data[data[2] != \"N/A\"]\n",
    "#data[4] = data[4].str.replace(\"−\",\"-\").str.slice(0,5).astype(float) #не корректно символов не всегда 5 может быть просто 0% \n",
    "data[4] = data[4].str.replace(\"%\",\"\").str.replace(\"−\",\"-\").astype(float)\n",
    "data = data.set_index(data[4])\n",
    "data = data.sort_index(ascending=False)\n",
    "print (data[0].head(1))"
   ]
  },
  {
   "cell_type": "code",
   "execution_count": 10,
   "id": "523c3408",
   "metadata": {},
   "outputs": [
    {
     "name": "stdout",
     "output_type": "stream",
     "text": [
      "             0           1       2        3      4       5        6      7   \\\n",
      "0    +МосЭнерго  01.11.2019    2.29  +0.0215  +0.95  2.2685     2.28  2.268   \n",
      "1      AGRO-гдр  01.11.2019   677.4       −4  −0.59   681.4    681.4    672   \n",
      "2      ENPL-гдр  01.11.2019     591     +3.6  +0.61   587.4    590.2  578.2   \n",
      "3      FIVE-гдр  01.11.2019   2 168      +21  +0.98   2 147  2 142.5  2 131   \n",
      "4      FXAU ETF  01.11.2019   1 985       −2  −0.10   1 987    1 993  1 980   \n",
      "..          ...         ...     ...      ...    ...     ...      ...    ...   \n",
      "368  Якутскэн-п  01.11.2019   0.282   −0.003  −1.05   0.285    0.278  0.278   \n",
      "369  Якутскэнрг  01.11.2019  0.2975  +0.0075  +2.59    0.29   0.2925   0.29   \n",
      "370     ЯТЭК ао  01.11.2019   20.66    −0.66  −3.10   21.32    21.68   20.5   \n",
      "371        None        None    None     None   None    None     None   None   \n",
      "372        None        None    None     None   None    None     None   None   \n",
      "\n",
      "         8       9          10             11                     12  \n",
      "0    2.2925   2.281  4 299 000    9 802 392.5    517\\r\\n              \n",
      "1     687.6   678.2     19 879   13 481 438.4  1 152\\r\\n              \n",
      "2       595     591     90 989   53 760 851.6    605\\r\\n              \n",
      "3     2 197   2 169    235 353  510 463 327.5  4 858\\r\\n              \n",
      "4     2 000   1 992        490        976 277     99\\r\\n              \n",
      "..      ...     ...        ...            ...                    ...  \n",
      "368  0.2895  0.2855    640 000        182 635     18\\r\\n              \n",
      "369   0.301  0.2965    970 000        287 700     42\\r\\n              \n",
      "370   21.68   20.82     29 500        613 836         85\\r\\n          \n",
      "371    None    None       None           None                   None  \n",
      "372    None    None       None           None                   None  \n",
      "\n",
      "[373 rows x 13 columns]\n"
     ]
    }
   ],
   "source": [
    "\n",
    "print (data)\n"
   ]
  },
  {
   "cell_type": "code",
   "execution_count": null,
   "id": "6a162f0f",
   "metadata": {},
   "outputs": [],
   "source": []
  }
 ],
 "metadata": {
  "kernelspec": {
   "display_name": "Python 3 (ipykernel)",
   "language": "python",
   "name": "python3"
  },
  "language_info": {
   "codemirror_mode": {
    "name": "ipython",
    "version": 3
   },
   "file_extension": ".py",
   "mimetype": "text/x-python",
   "name": "python",
   "nbconvert_exporter": "python",
   "pygments_lexer": "ipython3",
   "version": "3.11.1"
  }
 },
 "nbformat": 4,
 "nbformat_minor": 5
}
