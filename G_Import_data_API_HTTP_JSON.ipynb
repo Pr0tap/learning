{
 "cells": [
  {
   "cell_type": "code",
   "execution_count": 26,
   "id": "2f7522e4",
   "metadata": {},
   "outputs": [
    {
     "name": "stdout",
     "output_type": "stream",
     "text": [
      "50.100202\n"
     ]
    }
   ],
   "source": [
    "import requests\n",
    "import json\n",
    "request_headers = {\n",
    "    \"Content-Type\": \"application/json\",\n",
    "    \"Accept\": \"application/json;charset=UTF-8\"\n",
    "}\n",
    "# https://geocode-maps.yandex.ru/1.x/?apikey=3f355b88-81e9-4bbf-a0a4-eb687fdea256&geocode=Тверь,+Ленина+улица,+дом+7\n",
    "url = \"https://geocode-maps.yandex.ru/1.x/?apikey=3f355b88-81e9-4bbf-a0a4-eb687fdea256&format=json&results=1&geocode=Самара\"\n",
    "\n",
    "response = requests.get(url, headers=request_headers)\n",
    "#print (\"Код ответа:\", response.status_code)\n",
    "response = json.loads(response.content)\n",
    "print (response['response']['GeoObjectCollection']['featureMember'][0]['GeoObject']['Point']['pos'].split(\" \")[0])"
   ]
  },
  {
   "cell_type": "code",
   "execution_count": null,
   "id": "466299bf",
   "metadata": {},
   "outputs": [],
   "source": []
  }
 ],
 "metadata": {
  "kernelspec": {
   "display_name": "Python 3 (ipykernel)",
   "language": "python",
   "name": "python3"
  },
  "language_info": {
   "codemirror_mode": {
    "name": "ipython",
    "version": 3
   },
   "file_extension": ".py",
   "mimetype": "text/x-python",
   "name": "python",
   "nbconvert_exporter": "python",
   "pygments_lexer": "ipython3",
   "version": "3.11.1"
  }
 },
 "nbformat": 4,
 "nbformat_minor": 5
}
