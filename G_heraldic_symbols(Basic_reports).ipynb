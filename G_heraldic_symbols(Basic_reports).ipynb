{
 "cells": [
  {
   "cell_type": "code",
   "execution_count": 2,
   "metadata": {},
   "outputs": [
    {
     "data": {
      "text/plain": [
       "'from IPython.core.display import HTML\\nhtml = <html>\\n    <head>\\n        <title>Заголовок документа</title>\\n    </head>\\n    <body>\\n        <h1 style=\"background:#666;padding:10px;color:#fff\">\\n            Заголовок текста\\n        </h1>\\n        <p>Описание проекта\\n            <a href=\"https://www.ittensive.com/\">ссылка на сайт</a>\\n        </p>\\n        <p>\\n            <img src=\"libraries.png\" alt=\"Библиотеки Москвы\"/>\\n        </p>\\n        <h2>Табличные данные</h2>\\n        <table>\\n            <thead>\\n                <tr>\\n                    <th>Заголовок таблицы</th><th></th>\\n                </tr>\\n            </thead>\\n            <tbody>\\n                <tr>\\n                    <td>Ячейка таблицы</td><td>Данные</td>\\n                </tr>\\n            </tbody>\\n        </table>\\n    </body>\\n</html>\\nHTML(html)'"
      ]
     },
     "execution_count": 2,
     "metadata": {},
     "output_type": "execute_result"
    }
   ],
   "source": [
    "'''from IPython.core.display import HTML\n",
    "html = <html>\n",
    "    <head>\n",
    "        <title>Заголовок документа</title>\n",
    "    </head>\n",
    "    <body>\n",
    "        <h1 style=\"background:#666;padding:10px;color:#fff\">\n",
    "            Заголовок текста\n",
    "        </h1>\n",
    "        <p>Описание проекта\n",
    "            <a href=\"https://www.ittensive.com/\">ссылка на сайт</a>\n",
    "        </p>\n",
    "        <p>\n",
    "            <img src=\"libraries.png\" alt=\"Библиотеки Москвы\"/>\n",
    "        </p>\n",
    "        <h2>Табличные данные</h2>\n",
    "        <table>\n",
    "            <thead>\n",
    "                <tr>\n",
    "                    <th>Заголовок таблицы</th><th></th>\n",
    "                </tr>\n",
    "            </thead>\n",
    "            <tbody>\n",
    "                <tr>\n",
    "                    <td>Ячейка таблицы</td><td>Данные</td>\n",
    "                </tr>\n",
    "            </tbody>\n",
    "        </table>\n",
    "    </body>\n",
    "</html>\n",
    "HTML(html)'''"
   ]
  },
  {
   "cell_type": "code",
   "execution_count": 10,
   "metadata": {},
   "outputs": [],
   "source": [
    "import pdfkit\n",
    "import pandas as pd\n",
    "\n"
   ]
  },
  {
   "cell_type": "code",
   "execution_count": 7,
   "metadata": {},
   "outputs": [
    {
     "name": "stdout",
     "output_type": "stream",
     "text": [
      "   ID                                               Name  Type  \\\n",
      "0   1  Герб муниципального округа Новокосино в городе...  Герб   \n",
      "1   2  Флаг муниципального округа Новокосино в городе...  Флаг   \n",
      "2   3  Герб муниципального округа Нагатино-Садовники ...  Герб   \n",
      "3   4  Флаг муниципального округа Нагатино-Садовники ...  Флаг   \n",
      "4   5  Герб муниципального округа Марфино в городе Мо...  Герб   \n",
      "\n",
      "                                Picture  \\\n",
      "0  4b29170f-c81c-4418-9669-50bb4f419878   \n",
      "1  3aaf306c-3d1e-40f8-9388-838c8f3ed923   \n",
      "2  8e8a775e-bb48-4606-a4b1-769ae45efc87   \n",
      "3  95d4ead4-d9e8-4de4-8d86-03dd0214d4d9   \n",
      "4  4e0b7f34-f186-40e6-a731-dbc1ade83025   \n",
      "\n",
      "                                         Description  \\\n",
      "0  В четырежды рассечённом пурпурном и серебряном...   \n",
      "1  Прямоугольное двухстороннее полотнище с отноше...   \n",
      "2  В зелёном поле на чёрной земле - золотая яблон...   \n",
      "3  Прямоугольное двухстороннее полотнище зелёного...   \n",
      "4  Зелёное и лазоревое поле разделено фигурной пе...   \n",
      "\n",
      "                                           Semantics  global_id  Unnamed: 7  \n",
      "0  Новокосино - уютный уголок столицы, примыкающи...  881376735         NaN  \n",
      "1  Новокосино - уютный уголок столицы, примыкающи...  881376867         NaN  \n",
      "2  Зелёный цвет щита символизирует заливные луга,...  881376945         NaN  \n",
      "3  Зелёный цвет щита символизирует заливные луга,...  881384742         NaN  \n",
      "4  Лист березы совместно с отрезками нитей, вылож...  881396305         NaN  \n"
     ]
    }
   ],
   "source": [
    "data = pd.read_csv(\"http://video.ittensive.com/python-advanced/data-102743-2019-11-13.utf.csv\", delimiter=\";\")\n",
    "print (data.head())\n"
   ]
  },
  {
   "cell_type": "code",
   "execution_count": 11,
   "metadata": {},
   "outputs": [
    {
     "data": {
      "text/plain": [
       "True"
      ]
     },
     "execution_count": 11,
     "metadata": {},
     "output_type": "execute_result"
    }
   ],
   "source": [
    "#создаем HTMLзаготовку в которую будем добавлять код(текст) на HTML \n",
    "html = '''<html>\n",
    "    <head>\n",
    "        <title>Геральдика Москвы</title>\n",
    "        <meta charset=\"utf-8\"/> \n",
    "    </head>\n",
    "    <body>'''\n",
    "for a, y in data.iterrows(): # перебираем файл данных , в Y-значения столбцов\n",
    "    if  a == 0: # если строка первая то\n",
    "        html += '<h1>' + y['Name'] + '</h1>' #добавляем строчку наименованием\n",
    "    else:\n",
    "        html += '<h1 style=\"page-break-before:always\">' + y['Name'] + '</h1>' #разрыв страницы и наименование\n",
    "    # подгружаем рисунок с https://op.mos.ru/MEDIA/showFile?id= используя с \"Picture\"\n",
    "    html += '''<p>\n",
    "        <img style=\"width:80%;margin-left:10%\" src=\"https://op.mos.ru/MEDIA/showFile?id=''' + y['Picture'] + '''\"> \n",
    "    </p>'''\n",
    "    html += '<p style=\"font-size:150%\">' + y['Description'] + '</p>добавим описание из 'Description'\n",
    "\n",
    "html += '</body></html>' #заканчиваем документ HTML\n",
    "    \n",
    "config = pdfkit.configuration(wkhtmltopdf='D:/wkhtmltopdf/bin/wkhtmltopdf.exe') #путь до D:\\wkhtmltopdf \n",
    "options = {'page-size': 'A4', 'header-right': '[page]'} #параметры для файла pdf\n",
    "pdfkit.from_string(html, 'M_heral.pdf', configuration=config, options=options)"
   ]
  },
  {
   "cell_type": "code",
   "execution_count": null,
   "metadata": {},
   "outputs": [],
   "source": []
  }
 ],
 "metadata": {
  "kernelspec": {
   "display_name": "Python 3 (ipykernel)",
   "language": "python",
   "name": "python3"
  },
  "language_info": {
   "codemirror_mode": {
    "name": "ipython",
    "version": 3
   },
   "file_extension": ".py",
   "mimetype": "text/x-python",
   "name": "python",
   "nbconvert_exporter": "python",
   "pygments_lexer": "ipython3",
   "version": "3.11.1"
  }
 },
 "nbformat": 4,
 "nbformat_minor": 2
}
