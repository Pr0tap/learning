{
 "cells": [
  {
   "cell_type": "code",
   "execution_count": 18,
   "metadata": {},
   "outputs": [
    {
     "name": "stdout",
     "output_type": "stream",
     "text": [
      "   ID                                  AdmArea  Year  global_id   Month  \\\n",
      "0   1       Центральный административный округ  2015   37153160  Январь   \n",
      "1   2          Северный административный округ  2015   37153161  Январь   \n",
      "2   3  Северо-Восточный административный округ  2015   37153162  Январь   \n",
      "3   4         Восточный административный округ  2015   37153163  Январь   \n",
      "4   5     Юго-Восточный административный округ  2015   37153164  Январь   \n",
      "\n",
      "   Calls  Unnamed: 6  \n",
      "0    408         NaN  \n",
      "1    408         NaN  \n",
      "2    445         NaN  \n",
      "3    619         NaN  \n",
      "4    541         NaN  \n",
      "493.0\n"
     ]
    }
   ],
   "source": [
    "import pandas as pd\n",
    "data = pd.read_csv(\"http://video.ittensive.com/python-advanced/data-5283-2019-10-04.utf.csv\", delimiter=';', na_values=\"NA\" )  \n",
    "#data.fillna(0, axis=1, inplace=True)\n",
    "#data_array = data.values\n",
    "print (data.head())\n",
    "print (data[\"Calls\"].mean().round())"
   ]
  },
  {
   "cell_type": "code",
   "execution_count": null,
   "metadata": {},
   "outputs": [],
   "source": []
  }
 ],
 "metadata": {
  "kernelspec": {
   "display_name": "Python 3 (ipykernel)",
   "language": "python",
   "name": "python3"
  },
  "language_info": {
   "codemirror_mode": {
    "name": "ipython",
    "version": 3
   },
   "file_extension": ".py",
   "mimetype": "text/x-python",
   "name": "python",
   "nbconvert_exporter": "python",
   "pygments_lexer": "ipython3",
   "version": "3.10.7"
  }
 },
 "nbformat": 4,
 "nbformat_minor": 2
}
