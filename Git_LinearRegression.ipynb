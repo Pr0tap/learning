{
 "cells": [
  {
   "cell_type": "markdown",
   "id": "8c133789",
   "metadata": {},
   "source": [
    " ### Задание\n",
    " Разделите набор данных на обучающие/проверочные в пропорции 80/20.\n",
    "Загрузите данные и очистите значения (нулями и средними). Постройте модель линейной регрессии для каждого часа в отдельности, используя: \n",
    "* температуру воздуха (air_temperature), \n",
    "* влажность (dew_temperature), \n",
    "* атмосферное давление (sea_level_pressure),\n",
    "* скорость ветра (wind_speed)\n",
    "* облачность (cloud_coverage).\n",
    "\n",
    "\n",
    "Рассчитайте качество построенной модели по проверочным данным. Используйте данные:\n",
    "* http://video.ittensive.com/machine-learning/ashrae/building_metadata.csv.gz\n",
    "* http://video.ittensive.com/machine-learning/ashrae/weather_train.csv.gz\n",
    "* http://video.ittensive.com/machine-learning/ashrae/train.0.0.csv.gz"
   ]
  },
  {
   "cell_type": "code",
   "execution_count": 1,
   "id": "3b344e3c",
   "metadata": {},
   "outputs": [],
   "source": [
    "%matplotlib inline\n",
    "import numpy as np\n",
    "import pandas as pd\n",
    "from sklearn.model_selection import train_test_split\n",
    "from sklearn.linear_model import LinearRegression"
   ]
  },
  {
   "cell_type": "markdown",
   "id": "5248705b",
   "metadata": {},
   "source": [
    "загрузка данных"
   ]
  },
  {
   "cell_type": "code",
   "execution_count": 9,
   "id": "6616fc9a",
   "metadata": {},
   "outputs": [
    {
     "name": "stdout",
     "output_type": "stream",
     "text": [
      "<class 'pandas.core.frame.DataFrame'>\n",
      "RangeIndex: 8784 entries, 0 to 8783\n",
      "Data columns (total 4 columns):\n",
      " #   Column         Non-Null Count  Dtype  \n",
      "---  ------         --------------  -----  \n",
      " 0   building_id    8784 non-null   int64  \n",
      " 1   meter          8784 non-null   int64  \n",
      " 2   timestamp      8784 non-null   object \n",
      " 3   meter_reading  8784 non-null   float64\n",
      "dtypes: float64(1), int64(2), object(1)\n",
      "memory usage: 274.6+ KB\n",
      "None\n"
     ]
    }
   ],
   "source": [
    "build = pd.read_csv(\"http://video.ittensive.com/machine-learning/ashrae/building_metadata.csv.gz\")\n",
    "weather = pd.read_csv(\"http://video.ittensive.com/machine-learning/ashrae/weather_train.csv.gz\")\n",
    "energy_ = pd.read_csv(\"http://video.ittensive.com/machine-learning/ashrae/train.0.0.csv.gz\")\n",
    "print (energy_.info())\n"
   ]
  },
  {
   "cell_type": "markdown",
   "id": "9a4931d9",
   "metadata": {},
   "source": [
    "обьединение данных"
   ]
  },
  {
   "cell_type": "code",
   "execution_count": 10,
   "id": "93967d34",
   "metadata": {},
   "outputs": [
    {
     "name": "stdout",
     "output_type": "stream",
     "text": [
      "<class 'pandas.core.frame.DataFrame'>\n",
      "RangeIndex: 139773 entries, 0 to 139772\n",
      "Data columns (total 9 columns):\n",
      " #   Column              Non-Null Count   Dtype  \n",
      "---  ------              --------------   -----  \n",
      " 0   site_id             139773 non-null  int64  \n",
      " 1   timestamp           139773 non-null  object \n",
      " 2   air_temperature     139718 non-null  float64\n",
      " 3   cloud_coverage      70600 non-null   float64\n",
      " 4   dew_temperature     139660 non-null  float64\n",
      " 5   precip_depth_1_hr   89484 non-null   float64\n",
      " 6   sea_level_pressure  129155 non-null  float64\n",
      " 7   wind_direction      133505 non-null  float64\n",
      " 8   wind_speed          139469 non-null  float64\n",
      "dtypes: float64(7), int64(1), object(1)\n",
      "memory usage: 9.6+ MB\n",
      "None\n",
      "<class 'pandas.core.frame.DataFrame'>\n",
      "Int64Index: 8784 entries, 0 to 8783\n",
      "Data columns (total 9 columns):\n",
      " #   Column         Non-Null Count  Dtype  \n",
      "---  ------         --------------  -----  \n",
      " 0   building_id    8784 non-null   int64  \n",
      " 1   meter          8784 non-null   int64  \n",
      " 2   timestamp      8784 non-null   object \n",
      " 3   meter_reading  8784 non-null   float64\n",
      " 4   site_id        8784 non-null   int64  \n",
      " 5   primary_use    8784 non-null   object \n",
      " 6   square_feet    8784 non-null   int64  \n",
      " 7   year_built     8784 non-null   float64\n",
      " 8   floor_count    0 non-null      float64\n",
      "dtypes: float64(3), int64(4), object(2)\n",
      "memory usage: 686.2+ KB\n",
      "None\n"
     ]
    }
   ],
   "source": [
    "#обьединяем здание  и энерго потребление\n",
    "energy_ = pd.merge(left=energy_, right=build, how=\"left\",\n",
    "                   left_on=\"building_id\", right_on=\"building_id\")\n",
    "\n",
    "print (weather.info())\n",
    "print (energy_.info())"
   ]
  },
  {
   "cell_type": "code",
   "execution_count": 11,
   "id": "a563458d",
   "metadata": {},
   "outputs": [],
   "source": [
    "# индексы для обьединения с метеоданными\n",
    "energy_.set_index([\"timestamp\", \"site_id\"], inplace=True)\n",
    "weather.set_index([\"timestamp\", \"site_id\"], inplace=True)\n",
    "# обьеденяем с метеоданными\n",
    "energy_ = pd.merge(left=energy_, right=weather, how=\"left\",\n",
    "                   left_index=True, right_index=True)\n",
    "# сбросим индекс\n",
    "energy_.reset_index(inplace=True)\n"
   ]
  },
  {
   "cell_type": "markdown",
   "id": "076fb799",
   "metadata": {},
   "source": [
    "очищаем данные"
   ]
  },
  {
   "cell_type": "code",
   "execution_count": 12,
   "id": "a4d11143",
   "metadata": {},
   "outputs": [
    {
     "name": "stdout",
     "output_type": "stream",
     "text": [
      "<class 'pandas.core.frame.DataFrame'>\n",
      "Int64Index: 5411 entries, 704 to 8783\n",
      "Data columns (total 16 columns):\n",
      " #   Column              Non-Null Count  Dtype  \n",
      "---  ------              --------------  -----  \n",
      " 0   timestamp           5411 non-null   object \n",
      " 1   site_id             5411 non-null   int64  \n",
      " 2   building_id         5411 non-null   int64  \n",
      " 3   meter               5411 non-null   int64  \n",
      " 4   meter_reading       5411 non-null   float64\n",
      " 5   primary_use         5411 non-null   object \n",
      " 6   square_feet         5411 non-null   int64  \n",
      " 7   year_built          5411 non-null   float64\n",
      " 8   floor_count         0 non-null      float64\n",
      " 9   air_temperature     5411 non-null   float64\n",
      " 10  cloud_coverage      5411 non-null   float64\n",
      " 11  dew_temperature     5411 non-null   float64\n",
      " 12  precip_depth_1_hr   5411 non-null   float64\n",
      " 13  sea_level_pressure  5411 non-null   float64\n",
      " 14  wind_direction      5236 non-null   float64\n",
      " 15  wind_speed          5411 non-null   float64\n",
      "dtypes: float64(10), int64(4), object(2)\n",
      "memory usage: 718.6+ KB\n",
      "None\n"
     ]
    }
   ],
   "source": [
    "energy_ = energy_[energy_[\"meter_reading\"] > 0]\n",
    "energy_[\"air_temperature\"].fillna(0, inplace=True) # air_temperature - температура воздуха, С NaN -> 0\n",
    "energy_[\"dew_temperature\"].fillna(0, inplace=True) # dew_temperature - точка росы (влажность), С NaN -> 0\n",
    "energy_[\"cloud_coverage\"].fillna(0, inplace=True) # cloud_coverage - облачность, % NaN -> 0\n",
    "energy_[\"wind_speed\"].fillna(0, inplace=True)# wind_speed - скорость ветра, м/с NaN -> 0\n",
    "energy_sea_level_pressure_mean = energy_[\"sea_level_pressure\"].mean() #sea_level_pressure:-давление, мбар NaN -> среднее\n",
    "energy_[\"sea_level_pressure\"] = energy_[\"sea_level_pressure\"].apply(lambda x:energy_sea_level_pressure_mean if x!=x else x)\n",
    "\n",
    "print (energy_.info())"
   ]
  },
  {
   "cell_type": "markdown",
   "id": "3fd12b42",
   "metadata": {},
   "source": [
    "добавляем час в данные"
   ]
  },
  {
   "cell_type": "code",
   "execution_count": 13,
   "id": "b9afc365",
   "metadata": {},
   "outputs": [
    {
     "name": "stdout",
     "output_type": "stream",
     "text": [
      "               timestamp  site_id  building_id  meter  meter_reading  \\\n",
      "704  2016-01-30 08:00:00        0            0      0        43.6839   \n",
      "725  2016-01-31 05:00:00        0            0      0        37.5408   \n",
      "737  2016-01-31 17:00:00        0            0      0        52.5571   \n",
      "2366 2016-04-08 14:00:00        0            0      0        59.3827   \n",
      "2923 2016-05-01 19:00:00        0            0      0       448.0000   \n",
      "\n",
      "     primary_use  square_feet  year_built  floor_count  air_temperature  \\\n",
      "704    Education         7432      2008.0          NaN              8.3   \n",
      "725    Education         7432      2008.0          NaN             12.8   \n",
      "737    Education         7432      2008.0          NaN             20.6   \n",
      "2366   Education         7432      2008.0          NaN             21.7   \n",
      "2923   Education         7432      2008.0          NaN             31.1   \n",
      "\n",
      "      cloud_coverage  dew_temperature  precip_depth_1_hr  sea_level_pressure  \\\n",
      "704              0.0              6.1                0.0              1019.0   \n",
      "725              0.0             10.0                0.0              1021.9   \n",
      "737              0.0             11.7                0.0              1020.9   \n",
      "2366             2.0             14.4                0.0              1015.1   \n",
      "2923             0.0             17.2                0.0              1016.1   \n",
      "\n",
      "      wind_direction  wind_speed  hour  \n",
      "704            220.0         2.1     8  \n",
      "725              0.0         0.0     5  \n",
      "737            110.0         1.5    17  \n",
      "2366           250.0         3.1    14  \n",
      "2923           100.0         4.1    19  \n"
     ]
    }
   ],
   "source": [
    "energy_[\"timestamp\"] = pd.to_datetime(energy_[\"timestamp\"]) # преобразуем поле в \"датувремя\"\n",
    "energy_[\"hour\"] = energy_[\"timestamp\"].dt.hour # бодавляем поле \"час\"\n",
    "print (energy_.head())"
   ]
  },
  {
   "cell_type": "markdown",
   "id": "b1704861",
   "metadata": {},
   "source": [
    "отделяем проверочные данные"
   ]
  },
  {
   "cell_type": "code",
   "execution_count": 14,
   "id": "93bc3702",
   "metadata": {},
   "outputs": [
    {
     "name": "stdout",
     "output_type": "stream",
     "text": [
      "               timestamp  site_id  building_id  meter  meter_reading  \\\n",
      "8552 2016-12-22 08:00:00        0            0      0        176.783   \n",
      "7564 2016-11-11 04:00:00        0            0      0        176.783   \n",
      "5765 2016-08-28 05:00:00        0            0      0        236.166   \n",
      "3550 2016-05-27 22:00:00        0            0      0        174.735   \n",
      "4208 2016-06-24 08:00:00        0            0      0        302.374   \n",
      "\n",
      "     primary_use  square_feet  year_built  floor_count  air_temperature  \\\n",
      "8552   Education         7432      2008.0          NaN             11.1   \n",
      "7564   Education         7432      2008.0          NaN             16.7   \n",
      "5765   Education         7432      2008.0          NaN             26.7   \n",
      "3550   Education         7432      2008.0          NaN             27.8   \n",
      "4208   Education         7432      2008.0          NaN             25.0   \n",
      "\n",
      "      cloud_coverage  dew_temperature  precip_depth_1_hr  sea_level_pressure  \\\n",
      "8552             4.0              9.4                0.0              1022.6   \n",
      "7564             0.0             12.8                0.0              1020.3   \n",
      "5765             0.0             25.0                0.0              1014.9   \n",
      "3550             0.0             18.3                0.0              1015.0   \n",
      "4208             2.0             23.9                0.0              1018.5   \n",
      "\n",
      "      wind_direction  wind_speed  hour  \n",
      "8552           320.0         2.1     8  \n",
      "7564            20.0         4.1     4  \n",
      "5765            50.0         4.6     5  \n",
      "3550            80.0         6.2    22  \n",
      "4208             0.0         0.0     8  \n"
     ]
    }
   ],
   "source": [
    "energy_learn, energy_test = train_test_split(energy_, test_size=0.2)\n",
    "print (energy_test.head())"
   ]
  },
  {
   "cell_type": "markdown",
   "id": "cab58ab1",
   "metadata": {},
   "source": [
    "### линейная регессия\n",
    "подготовим датафрейм (80%) для линейной регресии"
   ]
  },
  {
   "cell_type": "code",
   "execution_count": 15,
   "id": "c0746ef0",
   "metadata": {},
   "outputs": [],
   "source": [
    "\n",
    "energy_learn_80 = pd.DataFrame(energy_learn,\n",
    "    columns=[\"meter_reading\", \"air_temperature\", \"dew_temperature\",\n",
    "             \"sea_level_pressure\", \"wind_speed\", \"cloud_coverage\", \"hour\"])"
   ]
  },
  {
   "cell_type": "markdown",
   "id": "ed052b9b",
   "metadata": {},
   "source": [
    "создаем список параметров, расчитываем коэфициенты для каждого часа "
   ]
  },
  {
   "cell_type": "code",
   "execution_count": 16,
   "id": "341b95a7",
   "metadata": {},
   "outputs": [
    {
     "name": "stdout",
     "output_type": "stream",
     "text": [
      "[array([ 4.90530759e+00,  2.05811152e+00, -5.92535214e-01, -1.90001040e+00,\n",
      "        1.31024942e-03,  6.85581464e+02]), array([ 6.58329478e+00,  2.47889439e-01, -1.16865187e+00, -4.18515159e+00,\n",
      "        1.31122153e+00,  1.27513797e+03]), array([ 8.22856283e+00, -1.22217405e-01, -7.03103124e-02, -1.91380021e+00,\n",
      "       -3.79775567e-01,  1.24382487e+02]), array([ 6.22773195e+00,  9.07892780e-01, -9.60442741e-01, -2.54643811e+00,\n",
      "        5.00817039e+00,  1.05594634e+03]), array([ 7.92171743e+00, -1.36137190e+00, -6.83013916e-01, -3.72681931e+00,\n",
      "        3.31819409e+00,  7.87257624e+02]), array([ 9.89700625e+00, -2.37664629e+00,  2.42904064e-03, -2.79431674e+00,\n",
      "        7.38481624e-01,  6.48627762e+01]), array([ 8.89406033e+00, -1.70353620e+00, -5.27579232e-01, -1.55989986e+00,\n",
      "       -1.40964059e+00,  6.18578226e+02]), array([   4.22411452,    2.7184644 ,    0.61022765,   -1.1603929 ,\n",
      "          0.95172375, -524.17860824]), array([ 9.98257670e+00, -2.39536715e+00, -9.88590530e-02, -3.79144379e+00,\n",
      "        2.15638131e+00,  1.76962124e+02]), array([ 9.44116709e+00, -2.39648803e+00, -1.71126804e-01, -4.48629676e+00,\n",
      "       -2.43695183e+00,  2.63423291e+02]), array([ 1.48351346e+01, -7.26542927e+00, -5.05109844e-01, -4.09569422e+00,\n",
      "        2.12831011e+00,  5.79161823e+02]), array([ 1.67353290e+01, -8.60217817e+00, -1.17156747e+00, -4.97935039e+00,\n",
      "        1.32904066e+00,  1.24525269e+03]), array([ 1.18094821e+01, -3.68524412e+00, -8.22254233e-01, -2.44107996e+00,\n",
      "       -2.04156473e+00,  8.96351465e+02]), array([ 1.08647554e+01, -2.56215772e+00, -1.26673831e+00, -2.79966010e+00,\n",
      "       -1.66483848e+00,  1.32984258e+03]), array([ 9.31492629e+00, -1.15352996e+00, -1.01643852e+00, -3.24205485e-02,\n",
      "       -1.27387825e+00,  1.06187802e+03]), array([ 1.05659806e+01, -2.28730578e+00, -2.09421868e+00, -1.34708701e+00,\n",
      "       -9.53014317e-01,  2.13823743e+03]), array([ 8.93336443e+00, -7.86115669e-01, -1.80083297e+00, -2.26004543e+00,\n",
      "       -2.56059199e+00,  1.84785814e+03]), array([ 7.26021004e+00,  8.62765519e-01, -1.66188380e+00, -2.46314831e+00,\n",
      "       -3.06375572e+00,  1.71566945e+03]), array([ 3.79406642e+00,  2.09382813e+00, -1.22602220e+00, -1.15815360e+00,\n",
      "        4.60955349e-01,  1.33636986e+03]), array([ 4.39807658e+00,  1.51808304e+00, -1.28342938e+00,  2.49909722e-01,\n",
      "       -4.50668850e-01,  1.38110099e+03]), array([ 1.01896481e+00,  4.15851744e+00, -1.22263207e+00, -1.01186949e+00,\n",
      "        1.88376006e+00,  1.37616522e+03]), array([ 2.83381737e+00,  3.48627874e+00,  8.29528180e-01,  5.23282532e-01,\n",
      "       -8.09872543e-01, -7.52187093e+02]), array([ 3.41652239e+00,  3.23410512e+00, -1.28141727e-01,  3.31857147e-01,\n",
      "       -7.29724705e-01,  2.14748382e+02]), array([ 3.68600652e+00,  2.43093998e+00, -7.87589259e-02, -1.54051922e-01,\n",
      "       -3.12364552e+00,  1.81468855e+02])]\n"
     ]
    }
   ],
   "source": [
    "hours = range(0,24)\n",
    "energy_lr = [[]]*len(hours)\n",
    "for hour in hours:\n",
    "    energy_learn_80_hourly = energy_learn_80[energy_learn_80[\"hour\"]==hour]\n",
    "    y = energy_learn_80_hourly[\"meter_reading\"]\n",
    "    x = energy_learn_80_hourly.drop(labels=[\"meter_reading\",\"hour\"], axis=1)\n",
    "    model = LinearRegression().fit(x, y)\n",
    "    energy_lr[hour] = model.coef_\n",
    "    energy_lr[hour] = np.append(energy_lr[hour], model.intercept_)\n",
    "    del energy_learn_80_hourly\n",
    "print (energy_lr)"
   ]
  },
  {
   "cell_type": "markdown",
   "id": "f70fd068",
   "metadata": {},
   "source": [
    "оцениваем модель"
   ]
  },
  {
   "cell_type": "code",
   "execution_count": 17,
   "id": "30df4fd4",
   "metadata": {},
   "outputs": [
    {
     "name": "stdout",
     "output_type": "stream",
     "text": [
      "Качество почасовой линейной регрессии, 5 параметров: 0.21777970895488122 0.2\n"
     ]
    }
   ],
   "source": [
    "def calc_model (x):\n",
    "    model = energy_lr[x.hour]\n",
    "    meter_reading_log = np.log(x.meter_reading + 1)\n",
    "    meter_reading_lr = np.log(1 + x.air_temperature * model[0] + \n",
    "        x.dew_temperature * model[1] + x.sea_level_pressure * model[2] +\n",
    "        x.wind_speed * model[3] + x.cloud_coverage * model[4] + model[5])\n",
    "    x[\"meter_reading_lr_q\"] = (meter_reading_log - meter_reading_lr)**2\n",
    "    return x\n",
    "\n",
    "energy_test = energy_test.apply(calc_model,axis=1, result_type=\"expand\")\n",
    "energy_test_lr_rmsle = np.sqrt(energy_test[\"meter_reading_lr_q\"].sum() / len(energy_test))\n",
    "print (\"Качество почасовой линейной регрессии, 5 параметров:\",\n",
    "       energy_test_lr_rmsle, round(energy_test_lr_rmsle, 1))"
   ]
  },
  {
   "cell_type": "code",
   "execution_count": null,
   "id": "659810c8",
   "metadata": {},
   "outputs": [],
   "source": []
  }
 ],
 "metadata": {
  "kernelspec": {
   "display_name": "Python 3 (ipykernel)",
   "language": "python",
   "name": "python3"
  },
  "language_info": {
   "codemirror_mode": {
    "name": "ipython",
    "version": 3
   },
   "file_extension": ".py",
   "mimetype": "text/x-python",
   "name": "python",
   "nbconvert_exporter": "python",
   "pygments_lexer": "ipython3",
   "version": "3.11.1"
  }
 },
 "nbformat": 4,
 "nbformat_minor": 5
}
