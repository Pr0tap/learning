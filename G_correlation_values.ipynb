{
 "cells": [
  {
   "cell_type": "code",
   "execution_count": 7,
   "id": "aeea3491",
   "metadata": {},
   "outputs": [
    {
     "name": "stdout",
     "output_type": "stream",
     "text": [
      "коэффициент корреляции мужского населения равен 0.901\n",
      "коэффициент корреляции женского населения равен 0.916\n"
     ]
    }
   ],
   "source": [
    "import numpy as np\n",
    "import scipy.stats as st\n",
    "g = np.array([1926,1939,1959,1970,1979,1989,1991,1996,2001,2002,2003,2004,2005,2006,2007,2008,\n",
    "              2009,2010,2011,2012,2013,2014,2015,2016,2017,2018,2019,2020])\n",
    "m = np.array([44.0,51.1,52.2,59.1,63.2,68.7,69.5,69.5,68.3,67.6,67.5,67.0,66.7,66.3,66.0,66.0,\n",
    "              65.9,66.1,66.1,66.1,66.3,66.6,67.8,67.9,68.1,68.1,68.1,68.1])\n",
    "w = np.array([48.7,57.3,65.0,70.8,74.2,78.3,78.8,78.8,78.0,77.6,77.5,77.3,77.1,76.9,76.8,76.8,\n",
    "              76.8,76.8,76.8,76.9,77.0,77.1,78.5,78.6,78.7,78.8,78.7,78.6])\n",
    "pirson_m = st.pearsonr(m, g)[0]\n",
    "print ('коэффициент корреляции мужского населения равен','%.3f'%pirson_m)\n",
    "\n",
    "pirson_w = st.pearsonr(w, g)[0]\n",
    "print ('коэффициент корреляции женского населения равен','%.3f'%pirson_w)"
   ]
  },
  {
   "cell_type": "code",
   "execution_count": null,
   "id": "96ed1337",
   "metadata": {},
   "outputs": [],
   "source": []
  }
 ],
 "metadata": {
  "kernelspec": {
   "display_name": "Python 3 (ipykernel)",
   "language": "python",
   "name": "python3"
  },
  "language_info": {
   "codemirror_mode": {
    "name": "ipython",
    "version": 3
   },
   "file_extension": ".py",
   "mimetype": "text/x-python",
   "name": "python",
   "nbconvert_exporter": "python",
   "pygments_lexer": "ipython3",
   "version": "3.10.7"
  }
 },
 "nbformat": 4,
 "nbformat_minor": 5
}
